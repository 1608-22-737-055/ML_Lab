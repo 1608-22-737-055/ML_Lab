{
 "cells": [
  {
   "cell_type": "code",
   "execution_count": null,
   "id": "ba48e3f1",
   "metadata": {},
   "outputs": [],
   "source": [
    "import pandas as pd\n",
    "from sklearn.cluster import KMeans\n",
    "from sklearn.preprocessing import StandardScaler\n",
    "\n",
    "df = pd.read_csv('../datasets/mall_customers.csv')\n",
    "X = df[['Annual Income (k$)', 'Spending Score (1-100)']]\n",
    "\n",
    "X_scaled = StandardScaler().fit_transform(X)\n",
    "\n",
    "model = KMeans(n_clusters=5, random_state=42)\n",
    "df['Cluster'] = model.fit_predict(X_scaled)\n",
    "\n",
    "print(df[['CustomerID', 'Cluster']].head())"
   ]
  }
 ],
 "metadata": {},
 "nbformat": 4,
 "nbformat_minor": 5
}