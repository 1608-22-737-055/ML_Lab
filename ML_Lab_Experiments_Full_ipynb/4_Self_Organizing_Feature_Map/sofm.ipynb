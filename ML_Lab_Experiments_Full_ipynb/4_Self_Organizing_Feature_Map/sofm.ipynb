{
 "cells": [
  {
   "cell_type": "code",
   "execution_count": null,
   "id": "8826f7d3",
   "metadata": {},
   "outputs": [],
   "source": [
    "import pandas as pd\n",
    "from minisom import MiniSom\n",
    "\n",
    "df = pd.read_csv('../datasets/iris.csv')\n",
    "X = df.drop('species', axis=1).values\n",
    "\n",
    "som = MiniSom(x=7, y=7, input_len=4, sigma=1.0, learning_rate=0.5, random_seed=42)\n",
    "som.train_random(X, 100)\n",
    "\n",
    "for i in range(10):\n",
    "    print(f\"Sample {i}: BMU -> {som.winner(X[i])}\")"
   ]
  }
 ],
 "metadata": {},
 "nbformat": 4,
 "nbformat_minor": 5
}