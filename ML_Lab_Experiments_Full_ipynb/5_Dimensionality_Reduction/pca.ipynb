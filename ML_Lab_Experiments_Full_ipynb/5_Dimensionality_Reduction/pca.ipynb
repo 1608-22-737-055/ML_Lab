{
 "cells": [
  {
   "cell_type": "code",
   "execution_count": null,
   "id": "62eccc7a",
   "metadata": {},
   "outputs": [],
   "source": [
    "import pandas as pd\n",
    "from sklearn.decomposition import PCA\n",
    "from sklearn.preprocessing import StandardScaler\n",
    "\n",
    "df = pd.read_csv('../datasets/wine.csv')\n",
    "X = df.drop('target', axis=1)\n",
    "\n",
    "X_scaled = StandardScaler().fit_transform(X)\n",
    "pca = PCA(n_components=2)\n",
    "X_pca = pca.fit_transform(X_scaled)\n",
    "\n",
    "print(\"Explained variance ratio:\", pca.explained_variance_ratio_)\n",
    "print(\"First 5 PCA-transformed rows:\\n\", X_pca[:5])"
   ]
  }
 ],
 "metadata": {},
 "nbformat": 4,
 "nbformat_minor": 5
}